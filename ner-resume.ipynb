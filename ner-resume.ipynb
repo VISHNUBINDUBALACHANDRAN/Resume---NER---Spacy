{
 "cells": [
  {
   "cell_type": "code",
   "execution_count": 1,
   "metadata": {
    "execution": {
     "iopub.execute_input": "2021-05-04T10:08:23.065345Z",
     "iopub.status.busy": "2021-05-04T10:08:23.064332Z",
     "iopub.status.idle": "2021-05-04T10:08:38.514699Z",
     "shell.execute_reply": "2021-05-04T10:08:38.513018Z"
    },
    "papermill": {
     "duration": 15.484621,
     "end_time": "2021-05-04T10:08:38.514848",
     "exception": false,
     "start_time": "2021-05-04T10:08:23.030227",
     "status": "completed"
    },
    "tags": []
   },
   "outputs": [
    {
     "name": "stdout",
     "output_type": "stream",
     "text": [
      "Collecting seqeval\r\n",
      "  Downloading seqeval-1.2.2.tar.gz (43 kB)\r\n",
      "\u001b[K     |████████████████████████████████| 43 kB 199 kB/s \r\n",
      "\u001b[?25hRequirement already satisfied: numpy>=1.14.0 in /opt/conda/lib/python3.7/site-packages (from seqeval) (1.18.1)\r\n",
      "Requirement already satisfied: scikit-learn>=0.21.3 in /opt/conda/lib/python3.7/site-packages (from seqeval) (0.23.1)\r\n",
      "Requirement already satisfied: scipy>=0.19.1 in /opt/conda/lib/python3.7/site-packages (from scikit-learn>=0.21.3->seqeval) (1.4.1)\r\n",
      "Requirement already satisfied: threadpoolctl>=2.0.0 in /opt/conda/lib/python3.7/site-packages (from scikit-learn>=0.21.3->seqeval) (2.1.0)\r\n",
      "Requirement already satisfied: joblib>=0.11 in /opt/conda/lib/python3.7/site-packages (from scikit-learn>=0.21.3->seqeval) (0.14.1)\r\n",
      "Building wheels for collected packages: seqeval\r\n",
      "  Building wheel for seqeval (setup.py) ... \u001b[?25l-\b \b\\\b \bdone\r\n",
      "\u001b[?25h  Created wheel for seqeval: filename=seqeval-1.2.2-py3-none-any.whl size=16170 sha256=acaaadaa524b236308aa6d6d98376067c43af4f98932914eb80e50b6524277b6\r\n",
      "  Stored in directory: /root/.cache/pip/wheels/05/96/ee/7cac4e74f3b19e3158dce26a20a1c86b3533c43ec72a549fd7\r\n",
      "Successfully built seqeval\r\n",
      "Installing collected packages: seqeval\r\n",
      "Successfully installed seqeval-1.2.2\r\n",
      "\u001b[33mWARNING: You are using pip version 20.1.1; however, version 21.1.1 is available.\r\n",
      "You should consider upgrading via the '/opt/conda/bin/python3.7 -m pip install --upgrade pip' command.\u001b[0m\r\n"
     ]
    }
   ],
   "source": [
    "!pip install seqeval"
   ]
  },
  {
   "cell_type": "code",
   "execution_count": 2,
   "metadata": {
    "_cell_guid": "b1076dfc-b9ad-4769-8c92-a6c4dae69d19",
    "_uuid": "8f2839f25d086af736a60e9eeb907d3b93b6e0e5",
    "execution": {
     "iopub.execute_input": "2021-05-04T10:08:38.583130Z",
     "iopub.status.busy": "2021-05-04T10:08:38.582064Z",
     "iopub.status.idle": "2021-05-04T10:08:41.531330Z",
     "shell.execute_reply": "2021-05-04T10:08:41.530019Z"
    },
    "papermill": {
     "duration": 2.986003,
     "end_time": "2021-05-04T10:08:41.531487",
     "exception": false,
     "start_time": "2021-05-04T10:08:38.545484",
     "status": "completed"
    },
    "tags": []
   },
   "outputs": [
    {
     "name": "stderr",
     "output_type": "stream",
     "text": [
      "\u001b[34m\u001b[1mwandb\u001b[0m: \u001b[33mWARNING\u001b[0m W&B installed but not logged in.  Run `wandb login` or set the WANDB_API_KEY env variable.\n"
     ]
    }
   ],
   "source": [
    "import pandas as pd\n",
    "import matplotlib.pyplot as plt\n",
    "import logging\n",
    "import re\n",
    "import json\n",
    "import numpy as np\n",
    "import torch\n",
    "from tqdm import trange\n",
    "from tqdm import tqdm_notebook as tqdm\n",
    "from transformers import BertForTokenClassification, BertTokenizerFast\n",
    "from torch.utils.data import Dataset, DataLoader, RandomSampler, SequentialSampler\n",
    "from torch.optim import Adam\n",
    "from seqeval.metrics import classification_report\n",
    "from sklearn.metrics import confusion_matrix"
   ]
  },
  {
   "cell_type": "code",
   "execution_count": 3,
   "metadata": {
    "execution": {
     "iopub.execute_input": "2021-05-04T10:08:42.210571Z",
     "iopub.status.busy": "2021-05-04T10:08:41.635797Z",
     "iopub.status.idle": "2021-05-04T10:08:42.216681Z",
     "shell.execute_reply": "2021-05-04T10:08:42.217888Z"
    },
    "papermill": {
     "duration": 0.656182,
     "end_time": "2021-05-04T10:08:42.218042",
     "exception": false,
     "start_time": "2021-05-04T10:08:41.561860",
     "status": "completed"
    },
    "tags": []
   },
   "outputs": [],
   "source": [
    "MAX_LEN = 500\n",
    "EPOCHS = 4\n",
    "MODEL_PATH = '../input/bert-base-uncased'\n",
    "TOKENIZER = BertTokenizerFast('../input/bert-base-uncased/vocab.txt', lowercase=True)\n",
    "DEVICE = torch.device(\"cuda\" if torch.cuda.is_available() else \"cpu\")"
   ]
  },
  {
   "cell_type": "code",
   "execution_count": 4,
   "metadata": {
    "_cell_guid": "79c7e3d0-c299-4dcb-8224-4455121ee9b0",
    "_uuid": "d629ff2d2480ee46fbb7e2d37f6b5fab8052498a",
    "execution": {
     "iopub.execute_input": "2021-05-04T10:08:42.326835Z",
     "iopub.status.busy": "2021-05-04T10:08:42.325925Z",
     "iopub.status.idle": "2021-05-04T10:08:42.755170Z",
     "shell.execute_reply": "2021-05-04T10:08:42.754045Z"
    },
    "papermill": {
     "duration": 0.486474,
     "end_time": "2021-05-04T10:08:42.755445",
     "exception": false,
     "start_time": "2021-05-04T10:08:42.268971",
     "status": "completed"
    },
    "tags": []
   },
   "outputs": [],
   "source": [
    "df = pd.read_json('../input/resume-entities-for-ner/Entity Recognition in Resumes.json', lines=True)"
   ]
  },
  {
   "cell_type": "code",
   "execution_count": 5,
   "metadata": {
    "execution": {
     "iopub.execute_input": "2021-05-04T10:08:42.868474Z",
     "iopub.status.busy": "2021-05-04T10:08:42.852683Z",
     "iopub.status.idle": "2021-05-04T10:08:42.925995Z",
     "shell.execute_reply": "2021-05-04T10:08:42.925373Z"
    },
    "papermill": {
     "duration": 0.138365,
     "end_time": "2021-05-04T10:08:42.926111",
     "exception": false,
     "start_time": "2021-05-04T10:08:42.787746",
     "status": "completed"
    },
    "tags": []
   },
   "outputs": [
    {
     "data": {
      "text/html": [
       "<div>\n",
       "<style scoped>\n",
       "    .dataframe tbody tr th:only-of-type {\n",
       "        vertical-align: middle;\n",
       "    }\n",
       "\n",
       "    .dataframe tbody tr th {\n",
       "        vertical-align: top;\n",
       "    }\n",
       "\n",
       "    .dataframe thead th {\n",
       "        text-align: right;\n",
       "    }\n",
       "</style>\n",
       "<table border=\"1\" class=\"dataframe\">\n",
       "  <thead>\n",
       "    <tr style=\"text-align: right;\">\n",
       "      <th></th>\n",
       "      <th>content</th>\n",
       "      <th>annotation</th>\n",
       "      <th>extras</th>\n",
       "    </tr>\n",
       "  </thead>\n",
       "  <tbody>\n",
       "    <tr>\n",
       "      <th>0</th>\n",
       "      <td>Abhishek Jha\\nApplication Development Associat...</td>\n",
       "      <td>[{'label': ['Skills'], 'points': [{'start': 12...</td>\n",
       "      <td>NaN</td>\n",
       "    </tr>\n",
       "    <tr>\n",
       "      <th>1</th>\n",
       "      <td>Afreen Jamadar\\nActive member of IIIT Committe...</td>\n",
       "      <td>[{'label': ['Email Address'], 'points': [{'sta...</td>\n",
       "      <td>NaN</td>\n",
       "    </tr>\n",
       "    <tr>\n",
       "      <th>2</th>\n",
       "      <td>Akhil Yadav Polemaina\\nHyderabad, Telangana - ...</td>\n",
       "      <td>[{'label': ['Skills'], 'points': [{'start': 37...</td>\n",
       "      <td>NaN</td>\n",
       "    </tr>\n",
       "    <tr>\n",
       "      <th>3</th>\n",
       "      <td>Alok Khandai\\nOperational Analyst (SQL DBA) En...</td>\n",
       "      <td>[{'label': ['Skills'], 'points': [{'start': 80...</td>\n",
       "      <td>NaN</td>\n",
       "    </tr>\n",
       "    <tr>\n",
       "      <th>4</th>\n",
       "      <td>Ananya Chavan\\nlecturer - oracle tutorials\\n\\n...</td>\n",
       "      <td>[{'label': ['Degree'], 'points': [{'start': 20...</td>\n",
       "      <td>NaN</td>\n",
       "    </tr>\n",
       "  </tbody>\n",
       "</table>\n",
       "</div>"
      ],
      "text/plain": [
       "                                             content  \\\n",
       "0  Abhishek Jha\\nApplication Development Associat...   \n",
       "1  Afreen Jamadar\\nActive member of IIIT Committe...   \n",
       "2  Akhil Yadav Polemaina\\nHyderabad, Telangana - ...   \n",
       "3  Alok Khandai\\nOperational Analyst (SQL DBA) En...   \n",
       "4  Ananya Chavan\\nlecturer - oracle tutorials\\n\\n...   \n",
       "\n",
       "                                          annotation  extras  \n",
       "0  [{'label': ['Skills'], 'points': [{'start': 12...     NaN  \n",
       "1  [{'label': ['Email Address'], 'points': [{'sta...     NaN  \n",
       "2  [{'label': ['Skills'], 'points': [{'start': 37...     NaN  \n",
       "3  [{'label': ['Skills'], 'points': [{'start': 80...     NaN  \n",
       "4  [{'label': ['Degree'], 'points': [{'start': 20...     NaN  "
      ]
     },
     "execution_count": 5,
     "metadata": {},
     "output_type": "execute_result"
    }
   ],
   "source": [
    "df.head()"
   ]
  },
  {
   "cell_type": "code",
   "execution_count": 6,
   "metadata": {
    "execution": {
     "iopub.execute_input": "2021-05-04T10:08:43.009725Z",
     "iopub.status.busy": "2021-05-04T10:08:43.007029Z",
     "iopub.status.idle": "2021-05-04T10:08:43.010614Z",
     "shell.execute_reply": "2021-05-04T10:08:43.011162Z"
    },
    "papermill": {
     "duration": 0.055735,
     "end_time": "2021-05-04T10:08:43.011315",
     "exception": false,
     "start_time": "2021-05-04T10:08:42.955580",
     "status": "completed"
    },
    "tags": []
   },
   "outputs": [],
   "source": [
    "def convert_dataturks_to_spacy(dataturks_JSON_FilePath):\n",
    "    try:\n",
    "        training_data = []\n",
    "        lines=[]\n",
    "        with open(dataturks_JSON_FilePath, 'r') as f:\n",
    "            lines = f.readlines()\n",
    "\n",
    "        for line in lines:\n",
    "            data = json.loads(line)\n",
    "            text = data['content'].replace(\"\\n\", \" \")\n",
    "            entities = []\n",
    "            data_annotations = data['annotation']\n",
    "            if data_annotations is not None:\n",
    "                for annotation in data_annotations:\n",
    "                    #only a single point in text annotation.\n",
    "                    point = annotation['points'][0]\n",
    "                    labels = annotation['label']\n",
    "                    # handle both list of labels or a single label.\n",
    "                    if not isinstance(labels, list):\n",
    "                        labels = [labels]\n",
    "\n",
    "                    for label in labels:\n",
    "                        point_start = point['start']\n",
    "                        point_end = point['end']\n",
    "                        point_text = point['text']\n",
    "                        \n",
    "                        lstrip_diff = len(point_text) - len(point_text.lstrip())\n",
    "                        rstrip_diff = len(point_text) - len(point_text.rstrip())\n",
    "                        if lstrip_diff != 0:\n",
    "                            point_start = point_start + lstrip_diff\n",
    "                        if rstrip_diff != 0:\n",
    "                            point_end = point_end - rstrip_diff\n",
    "                        entities.append((point_start, point_end + 1 , label))\n",
    "            training_data.append((text, {\"entities\" : entities}))\n",
    "        return training_data\n",
    "    except Exception as e:\n",
    "        logging.exception(\"Unable to process \" + dataturks_JSON_FilePath + \"\\n\" + \"error = \" + str(e))\n",
    "        return None\n",
    "\n",
    "def trim_entity_spans(data: list) -> list:\n",
    "    \"\"\"Removes leading and trailing white spaces from entity spans.\n",
    "\n",
    "    Args:\n",
    "        data (list): The data to be cleaned in spaCy JSON format.\n",
    "\n",
    "    Returns:\n",
    "        list: The cleaned data.\n",
    "    \"\"\"\n",
    "    invalid_span_tokens = re.compile(r'\\s')\n",
    "\n",
    "    cleaned_data = []\n",
    "    for text, annotations in data:\n",
    "        entities = annotations['entities']\n",
    "        valid_entities = []\n",
    "        for start, end, label in entities:\n",
    "            valid_start = start\n",
    "            valid_end = end\n",
    "            while valid_start < len(text) and invalid_span_tokens.match(\n",
    "                    text[valid_start]):\n",
    "                valid_start += 1\n",
    "            while valid_end > 1 and invalid_span_tokens.match(\n",
    "                    text[valid_end - 1]):\n",
    "                valid_end -= 1\n",
    "            valid_entities.append([valid_start, valid_end, label])\n",
    "        cleaned_data.append([text, {'entities': valid_entities}])\n",
    "    return cleaned_data"
   ]
  },
  {
   "cell_type": "code",
   "execution_count": 7,
   "metadata": {
    "execution": {
     "iopub.execute_input": "2021-05-04T10:08:43.077166Z",
     "iopub.status.busy": "2021-05-04T10:08:43.075955Z",
     "iopub.status.idle": "2021-05-04T10:08:43.113982Z",
     "shell.execute_reply": "2021-05-04T10:08:43.113296Z"
    },
    "papermill": {
     "duration": 0.072383,
     "end_time": "2021-05-04T10:08:43.114096",
     "exception": false,
     "start_time": "2021-05-04T10:08:43.041713",
     "status": "completed"
    },
    "tags": []
   },
   "outputs": [],
   "source": [
    "data = trim_entity_spans(convert_dataturks_to_spacy('../input/resume-entities-for-ner/Entity Recognition in Resumes.json'))"
   ]
  },
  {
   "cell_type": "code",
   "execution_count": 8,
   "metadata": {
    "execution": {
     "iopub.execute_input": "2021-05-04T10:08:43.183004Z",
     "iopub.status.busy": "2021-05-04T10:08:43.182109Z",
     "iopub.status.idle": "2021-05-04T10:08:43.186916Z",
     "shell.execute_reply": "2021-05-04T10:08:43.186358Z"
    },
    "papermill": {
     "duration": 0.042424,
     "end_time": "2021-05-04T10:08:43.187044",
     "exception": false,
     "start_time": "2021-05-04T10:08:43.144620",
     "status": "completed"
    },
    "tags": []
   },
   "outputs": [],
   "source": [
    "def get_label(offset, labels):\n",
    "    if offset[0] == 0 and offset[1] == 0:\n",
    "        return 'O'\n",
    "    for label in labels:\n",
    "        if offset[1] >= label[0] and offset[0] <= label[1]:\n",
    "            return label[2]\n",
    "    return 'O'"
   ]
  },
  {
   "cell_type": "code",
   "execution_count": 9,
   "metadata": {
    "execution": {
     "iopub.execute_input": "2021-05-04T10:08:43.258337Z",
     "iopub.status.busy": "2021-05-04T10:08:43.256257Z",
     "iopub.status.idle": "2021-05-04T10:08:43.259072Z",
     "shell.execute_reply": "2021-05-04T10:08:43.259632Z"
    },
    "papermill": {
     "duration": 0.041692,
     "end_time": "2021-05-04T10:08:43.259791",
     "exception": false,
     "start_time": "2021-05-04T10:08:43.218099",
     "status": "completed"
    },
    "tags": []
   },
   "outputs": [],
   "source": [
    "tags_vals = [\"UNKNOWN\", \"O\", \"Name\", \"Degree\",\"Skills\",\"College Name\",\"Email Address\",\"Designation\",\"Companies worked at\",\"Graduation Year\",\"Years of Experience\",\"Location\"]\n",
    "tag2idx = {t: i for i, t in enumerate(tags_vals)}\n",
    "idx2tag = {i:t for i, t in enumerate(tags_vals)}"
   ]
  },
  {
   "cell_type": "code",
   "execution_count": 10,
   "metadata": {
    "execution": {
     "iopub.execute_input": "2021-05-04T10:08:43.334490Z",
     "iopub.status.busy": "2021-05-04T10:08:43.332013Z",
     "iopub.status.idle": "2021-05-04T10:08:43.335484Z",
     "shell.execute_reply": "2021-05-04T10:08:43.336008Z"
    },
    "papermill": {
     "duration": 0.045779,
     "end_time": "2021-05-04T10:08:43.336133",
     "exception": false,
     "start_time": "2021-05-04T10:08:43.290354",
     "status": "completed"
    },
    "tags": []
   },
   "outputs": [],
   "source": [
    "def process_resume(data, tokenizer, tag2idx, max_len, is_test=False):\n",
    "    tok = tokenizer.encode_plus(data[0], max_length=max_len, return_offsets_mapping=True)\n",
    "    curr_sent = {'orig_labels':[], 'labels': []}\n",
    "    \n",
    "    padding_length = max_len - len(tok['input_ids'])\n",
    "    \n",
    "    if not is_test:\n",
    "        labels = data[1]['entities']\n",
    "        labels.reverse()\n",
    "        for off in tok['offset_mapping']:\n",
    "            label = get_label(off, labels)\n",
    "            curr_sent['orig_labels'].append(label)\n",
    "            curr_sent['labels'].append(tag2idx[label])\n",
    "        curr_sent['labels'] = curr_sent['labels'] + ([0] * padding_length)\n",
    "    \n",
    "    curr_sent['input_ids'] = tok['input_ids'] + ([0] * padding_length)\n",
    "    curr_sent['token_type_ids'] = tok['token_type_ids'] + ([0] * padding_length)\n",
    "    curr_sent['attention_mask'] = tok['attention_mask'] + ([0] * padding_length)\n",
    "    return curr_sent"
   ]
  },
  {
   "cell_type": "code",
   "execution_count": 11,
   "metadata": {
    "execution": {
     "iopub.execute_input": "2021-05-04T10:08:43.410600Z",
     "iopub.status.busy": "2021-05-04T10:08:43.409670Z",
     "iopub.status.idle": "2021-05-04T10:08:43.413563Z",
     "shell.execute_reply": "2021-05-04T10:08:43.413011Z"
    },
    "papermill": {
     "duration": 0.045326,
     "end_time": "2021-05-04T10:08:43.413690",
     "exception": false,
     "start_time": "2021-05-04T10:08:43.368364",
     "status": "completed"
    },
    "tags": []
   },
   "outputs": [],
   "source": [
    "class ResumeDataset(Dataset):\n",
    "    def __init__(self, resume, tokenizer, tag2idx, max_len, is_test=False):\n",
    "        self.resume = resume\n",
    "        self.tokenizer = tokenizer\n",
    "        self.is_test = is_test\n",
    "        self.tag2idx = tag2idx\n",
    "        self.max_len = max_len\n",
    "    \n",
    "    def __len__(self):\n",
    "        return len(self.resume)\n",
    "    \n",
    "    def __getitem__(self, idx):\n",
    "        data = process_resume(self.resume[idx], self.tokenizer, self.tag2idx, self.max_len, self.is_test)\n",
    "        return {\n",
    "            'input_ids': torch.tensor(data['input_ids'], dtype=torch.long),\n",
    "            'token_type_ids': torch.tensor(data['token_type_ids'], dtype=torch.long),\n",
    "            'attention_mask': torch.tensor(data['attention_mask'], dtype=torch.long),\n",
    "            'labels': torch.tensor(data['labels'], dtype=torch.long),\n",
    "            'orig_label': data['orig_labels']\n",
    "        }"
   ]
  },
  {
   "cell_type": "code",
   "execution_count": 12,
   "metadata": {
    "execution": {
     "iopub.execute_input": "2021-05-04T10:08:43.480112Z",
     "iopub.status.busy": "2021-05-04T10:08:43.479269Z",
     "iopub.status.idle": "2021-05-04T10:08:43.483726Z",
     "shell.execute_reply": "2021-05-04T10:08:43.483158Z"
    },
    "papermill": {
     "duration": 0.039266,
     "end_time": "2021-05-04T10:08:43.483840",
     "exception": false,
     "start_time": "2021-05-04T10:08:43.444574",
     "status": "completed"
    },
    "tags": []
   },
   "outputs": [],
   "source": [
    "total = len(data)\n",
    "train_data, val_data = data[:180], data[180:]"
   ]
  },
  {
   "cell_type": "code",
   "execution_count": 13,
   "metadata": {
    "execution": {
     "iopub.execute_input": "2021-05-04T10:08:43.551931Z",
     "iopub.status.busy": "2021-05-04T10:08:43.550642Z",
     "iopub.status.idle": "2021-05-04T10:08:43.554126Z",
     "shell.execute_reply": "2021-05-04T10:08:43.554724Z"
    },
    "papermill": {
     "duration": 0.040794,
     "end_time": "2021-05-04T10:08:43.554860",
     "exception": false,
     "start_time": "2021-05-04T10:08:43.514066",
     "status": "completed"
    },
    "tags": []
   },
   "outputs": [],
   "source": [
    "train_d = ResumeDataset(train_data, TOKENIZER, tag2idx, MAX_LEN)\n",
    "val_d = ResumeDataset(val_data, TOKENIZER, tag2idx, MAX_LEN)"
   ]
  },
  {
   "cell_type": "code",
   "execution_count": 14,
   "metadata": {
    "execution": {
     "iopub.execute_input": "2021-05-04T10:08:43.624605Z",
     "iopub.status.busy": "2021-05-04T10:08:43.623441Z",
     "iopub.status.idle": "2021-05-04T10:08:43.627882Z",
     "shell.execute_reply": "2021-05-04T10:08:43.628660Z"
    },
    "papermill": {
     "duration": 0.042376,
     "end_time": "2021-05-04T10:08:43.628787",
     "exception": false,
     "start_time": "2021-05-04T10:08:43.586411",
     "status": "completed"
    },
    "tags": []
   },
   "outputs": [],
   "source": [
    "train_sampler = RandomSampler(train_d)\n",
    "train_dl = DataLoader(train_d, sampler=train_sampler, batch_size=8)\n",
    "\n",
    "val_dl = DataLoader(val_d, batch_size=8)"
   ]
  },
  {
   "cell_type": "code",
   "execution_count": 15,
   "metadata": {
    "execution": {
     "iopub.execute_input": "2021-05-04T10:08:43.702497Z",
     "iopub.status.busy": "2021-05-04T10:08:43.701452Z",
     "iopub.status.idle": "2021-05-04T10:08:43.705322Z",
     "shell.execute_reply": "2021-05-04T10:08:43.704698Z"
    },
    "papermill": {
     "duration": 0.045423,
     "end_time": "2021-05-04T10:08:43.705433",
     "exception": false,
     "start_time": "2021-05-04T10:08:43.660010",
     "status": "completed"
    },
    "tags": []
   },
   "outputs": [],
   "source": [
    "def get_hyperparameters(model, ff):\n",
    "\n",
    "    # ff: full_finetuning\n",
    "    if ff:\n",
    "        param_optimizer = list(model.named_parameters())\n",
    "        no_decay = [\"bias\", \"gamma\", \"beta\"]\n",
    "        optimizer_grouped_parameters = [\n",
    "            {\n",
    "                \"params\": [\n",
    "                    p for n, p in param_optimizer if not any(nd in n for nd in no_decay)\n",
    "                ],\n",
    "                \"weight_decay_rate\": 0.01,\n",
    "            },\n",
    "            {\n",
    "                \"params\": [\n",
    "                    p for n, p in param_optimizer if any(nd in n for nd in no_decay)\n",
    "                ],\n",
    "                \"weight_decay_rate\": 0.0,\n",
    "            },\n",
    "        ]\n",
    "    else:\n",
    "        param_optimizer = list(model.classifier.named_parameters())\n",
    "        optimizer_grouped_parameters = [{\"params\": [p for n, p in param_optimizer]}]\n",
    "\n",
    "    return optimizer_grouped_parameters"
   ]
  },
  {
   "cell_type": "code",
   "execution_count": 16,
   "metadata": {
    "execution": {
     "iopub.execute_input": "2021-05-04T10:08:43.775444Z",
     "iopub.status.busy": "2021-05-04T10:08:43.774650Z",
     "iopub.status.idle": "2021-05-04T10:08:43.779027Z",
     "shell.execute_reply": "2021-05-04T10:08:43.778393Z"
    },
    "papermill": {
     "duration": 0.042044,
     "end_time": "2021-05-04T10:08:43.779129",
     "exception": false,
     "start_time": "2021-05-04T10:08:43.737085",
     "status": "completed"
    },
    "tags": []
   },
   "outputs": [],
   "source": [
    "def get_special_tokens(tokenizer, tag2idx):\n",
    "    vocab = tokenizer.get_vocab()\n",
    "    pad_tok = vocab[\"[PAD]\"]\n",
    "    sep_tok = vocab[\"[SEP]\"]\n",
    "    cls_tok = vocab[\"[CLS]\"]\n",
    "    o_lab = tag2idx[\"O\"]\n",
    "\n",
    "    return pad_tok, sep_tok, cls_tok, o_lab"
   ]
  },
  {
   "cell_type": "code",
   "execution_count": 17,
   "metadata": {
    "execution": {
     "iopub.execute_input": "2021-05-04T10:08:43.849150Z",
     "iopub.status.busy": "2021-05-04T10:08:43.848324Z",
     "iopub.status.idle": "2021-05-04T10:08:43.852274Z",
     "shell.execute_reply": "2021-05-04T10:08:43.852808Z"
    },
    "papermill": {
     "duration": 0.042639,
     "end_time": "2021-05-04T10:08:43.852936",
     "exception": false,
     "start_time": "2021-05-04T10:08:43.810297",
     "status": "completed"
    },
    "tags": []
   },
   "outputs": [],
   "source": [
    "def annot_confusion_matrix(valid_tags, pred_tags):\n",
    "\n",
    "    \"\"\"\n",
    "    Create an annotated confusion matrix by adding label\n",
    "    annotations and formatting to sklearn's `confusion_matrix`.\n",
    "    \"\"\"\n",
    "\n",
    "    # Create header from unique tags\n",
    "    header = sorted(list(set(valid_tags + pred_tags)))\n",
    "\n",
    "    # Calculate the actual confusion matrix\n",
    "    matrix = confusion_matrix(valid_tags, pred_tags, labels=header)\n",
    "\n",
    "    # Final formatting touches for the string output\n",
    "    mat_formatted = [header[i] + \"\\t\\t\\t\" + str(row) for i, row in enumerate(matrix)]\n",
    "    content = \"\\t\" + \" \".join(header) + \"\\n\" + \"\\n\".join(mat_formatted)\n",
    "\n",
    "    return content"
   ]
  },
  {
   "cell_type": "code",
   "execution_count": 18,
   "metadata": {
    "execution": {
     "iopub.execute_input": "2021-05-04T10:08:43.921977Z",
     "iopub.status.busy": "2021-05-04T10:08:43.920967Z",
     "iopub.status.idle": "2021-05-04T10:08:43.925244Z",
     "shell.execute_reply": "2021-05-04T10:08:43.925721Z"
    },
    "papermill": {
     "duration": 0.040733,
     "end_time": "2021-05-04T10:08:43.925844",
     "exception": false,
     "start_time": "2021-05-04T10:08:43.885111",
     "status": "completed"
    },
    "tags": []
   },
   "outputs": [],
   "source": [
    "def flat_accuracy(valid_tags, pred_tags):\n",
    "    return (np.array(valid_tags) == np.array(pred_tags)).mean()"
   ]
  },
  {
   "cell_type": "code",
   "execution_count": 19,
   "metadata": {
    "execution": {
     "iopub.execute_input": "2021-05-04T10:08:43.995008Z",
     "iopub.status.busy": "2021-05-04T10:08:43.994394Z",
     "iopub.status.idle": "2021-05-04T10:08:59.650302Z",
     "shell.execute_reply": "2021-05-04T10:08:59.649698Z"
    },
    "papermill": {
     "duration": 15.692776,
     "end_time": "2021-05-04T10:08:59.650433",
     "exception": false,
     "start_time": "2021-05-04T10:08:43.957657",
     "status": "completed"
    },
    "tags": []
   },
   "outputs": [],
   "source": [
    "model = BertForTokenClassification.from_pretrained(MODEL_PATH, num_labels=len(tag2idx))\n",
    "model.to(DEVICE);\n",
    "optimizer_grouped_parameters = get_hyperparameters(model, True)\n",
    "optimizer = Adam(optimizer_grouped_parameters, lr=3e-5)"
   ]
  },
  {
   "cell_type": "code",
   "execution_count": 20,
   "metadata": {
    "execution": {
     "iopub.execute_input": "2021-05-04T10:08:59.734666Z",
     "iopub.status.busy": "2021-05-04T10:08:59.732482Z",
     "iopub.status.idle": "2021-05-04T10:08:59.735544Z",
     "shell.execute_reply": "2021-05-04T10:08:59.736066Z"
    },
    "papermill": {
     "duration": 0.0462,
     "end_time": "2021-05-04T10:08:59.736230",
     "exception": false,
     "start_time": "2021-05-04T10:08:59.690030",
     "status": "completed"
    },
    "tags": []
   },
   "outputs": [],
   "source": [
    "MAX_GRAD_NORM = 1.0"
   ]
  },
  {
   "cell_type": "code",
   "execution_count": 21,
   "metadata": {
    "execution": {
     "iopub.execute_input": "2021-05-04T10:08:59.841699Z",
     "iopub.status.busy": "2021-05-04T10:08:59.810513Z",
     "iopub.status.idle": "2021-05-04T10:08:59.850709Z",
     "shell.execute_reply": "2021-05-04T10:08:59.850157Z"
    },
    "papermill": {
     "duration": 0.080248,
     "end_time": "2021-05-04T10:08:59.850855",
     "exception": false,
     "start_time": "2021-05-04T10:08:59.770607",
     "status": "completed"
    },
    "tags": []
   },
   "outputs": [],
   "source": [
    "def train_and_save_model(\n",
    "    model,\n",
    "    tokenizer,\n",
    "    optimizer,\n",
    "    epochs,\n",
    "    idx2tag,\n",
    "    tag2idx,\n",
    "    max_grad_norm,\n",
    "    device,\n",
    "    train_dataloader,\n",
    "    valid_dataloader\n",
    "):\n",
    "\n",
    "    pad_tok, sep_tok, cls_tok, o_lab = get_special_tokens(tokenizer, tag2idx)\n",
    "    \n",
    "    epoch = 0\n",
    "    val_acc=[]\n",
    "    ep=[]\n",
    "    val_loss=[]\n",
    "    for _ in trange(epochs, desc=\"Epoch\"):\n",
    "        epoch += 1\n",
    "\n",
    "        # Training loop\n",
    "        print(\"Starting training loop.\")\n",
    "        model.train()\n",
    "        tr_loss, tr_accuracy = 0, 0\n",
    "        nb_tr_examples, nb_tr_steps = 0, 0\n",
    "        tr_preds, tr_labels = [], []\n",
    "\n",
    "        for step, batch in enumerate(train_dataloader):\n",
    "            # Add batch to gpu\n",
    "            \n",
    "            # batch = tuple(t.to(device) for t in batch)\n",
    "            b_input_ids, b_input_mask, b_labels = batch['input_ids'], batch['attention_mask'], batch['labels']\n",
    "            b_input_ids, b_input_mask, b_labels = b_input_ids.to(device), b_input_mask.to(device), b_labels.to(device)\n",
    "\n",
    "            # Forward pass\n",
    "            outputs = model(\n",
    "                b_input_ids,\n",
    "                token_type_ids=None,\n",
    "                attention_mask=b_input_mask,\n",
    "                labels=b_labels,\n",
    "            )\n",
    "            loss, tr_logits = outputs[:2]\n",
    "\n",
    "            # Backward pass\n",
    "            loss.backward()\n",
    "\n",
    "            # Compute train loss\n",
    "            tr_loss += loss.item()\n",
    "            nb_tr_examples += b_input_ids.size(0)\n",
    "            nb_tr_steps += 1\n",
    "\n",
    "            # Subset out unwanted predictions on CLS/PAD/SEP tokens\n",
    "            preds_mask = (\n",
    "                (b_input_ids != cls_tok)\n",
    "                & (b_input_ids != pad_tok)\n",
    "                & (b_input_ids != sep_tok)\n",
    "            )\n",
    "\n",
    "            tr_logits = tr_logits.cpu().detach().numpy()\n",
    "            tr_label_ids = torch.masked_select(b_labels, (preds_mask == 1))\n",
    "            preds_mask = preds_mask.cpu().detach().numpy()\n",
    "            tr_batch_preds = np.argmax(tr_logits[preds_mask.squeeze()], axis=1)\n",
    "            tr_batch_labels = tr_label_ids.to(\"cpu\").numpy()\n",
    "            tr_preds.extend(tr_batch_preds)\n",
    "            tr_labels.extend(tr_batch_labels)\n",
    "\n",
    "            # Compute training accuracy\n",
    "            tmp_tr_accuracy = flat_accuracy(tr_batch_labels, tr_batch_preds)\n",
    "            tr_accuracy += tmp_tr_accuracy\n",
    "\n",
    "            # Gradient clipping\n",
    "            torch.nn.utils.clip_grad_norm_(\n",
    "                parameters=model.parameters(), max_norm=max_grad_norm\n",
    "            )\n",
    "\n",
    "            # Update parameters\n",
    "            optimizer.step()\n",
    "            model.zero_grad()\n",
    "\n",
    "        tr_loss = tr_loss / nb_tr_steps\n",
    "        tr_accuracy = tr_accuracy / nb_tr_steps\n",
    "\n",
    "        # Print training loss and accuracy per epoch\n",
    "        print(f\"Train loss: {tr_loss}\")\n",
    "        print(f\"Train accuracy: {tr_accuracy}\")\n",
    "        \n",
    "        \n",
    "        \"\"\"\n",
    "        Validation loop\n",
    "        \"\"\" \n",
    "        print(\"Starting validation loop.\")\n",
    "\n",
    "        model.eval()\n",
    "        eval_loss, eval_accuracy = 0, 0\n",
    "        nb_eval_steps, nb_eval_examples = 0, 0\n",
    "        predictions, true_labels = [], []\n",
    "\n",
    "        for batch in valid_dataloader:\n",
    "\n",
    "            b_input_ids, b_input_mask, b_labels = batch['input_ids'], batch['attention_mask'], batch['labels']\n",
    "            b_input_ids, b_input_mask, b_labels = b_input_ids.to(device), b_input_mask.to(device), b_labels.to(device)\n",
    "\n",
    "            with torch.no_grad():\n",
    "                outputs = model(\n",
    "                    b_input_ids,\n",
    "                    token_type_ids=None,\n",
    "                    attention_mask=b_input_mask,\n",
    "                    labels=b_labels,\n",
    "                )\n",
    "                tmp_eval_loss, logits = outputs[:2]\n",
    "\n",
    "            # Subset out unwanted predictions on CLS/PAD/SEP tokens\n",
    "            preds_mask = (\n",
    "                (b_input_ids != cls_tok)\n",
    "                & (b_input_ids != pad_tok)\n",
    "                & (b_input_ids != sep_tok)\n",
    "            )\n",
    "\n",
    "            logits = logits.cpu().detach().numpy()\n",
    "            label_ids = torch.masked_select(b_labels, (preds_mask == 1))\n",
    "            preds_mask = preds_mask.cpu().detach().numpy()\n",
    "            val_batch_preds = np.argmax(logits[preds_mask.squeeze()], axis=1)\n",
    "            val_batch_labels = label_ids.to(\"cpu\").numpy()\n",
    "            predictions.extend(val_batch_preds)\n",
    "            true_labels.extend(val_batch_labels)\n",
    "\n",
    "            tmp_eval_accuracy = flat_accuracy(val_batch_labels, val_batch_preds)\n",
    "\n",
    "            eval_loss += tmp_eval_loss.mean().item()\n",
    "            eval_accuracy += tmp_eval_accuracy\n",
    "\n",
    "            nb_eval_examples += b_input_ids.size(0)\n",
    "            nb_eval_steps += 1\n",
    "\n",
    "        # Evaluate loss, acc, conf. matrix, and class. report on devset\n",
    "        pred_tags = [idx2tag[i] for i in predictions]\n",
    "        valid_tags = [idx2tag[i] for i in true_labels]\n",
    "        cl_report = classification_report([valid_tags], [pred_tags])\n",
    "        conf_mat = annot_confusion_matrix(valid_tags, pred_tags)\n",
    "        eval_loss = eval_loss / nb_eval_steps\n",
    "        eval_accuracy = eval_accuracy / nb_eval_steps\n",
    "\n",
    "        # Report metrics\n",
    "        print(f\"Validation loss: {eval_loss}\")\n",
    "        print(f\"Validation Accuracy: {eval_accuracy}\")\n",
    "        print(f\"Classification Report:\\n {cl_report}\")\n",
    "        print(f\"Confusion Matrix:\\n {conf_mat}\")\n",
    "        val_acc.append(eval_accuracy)\n",
    "        ep.append(epoch)\n",
    "        val_loss.append(eval_loss)\n",
    "    \n",
    "    plt.plot(ep, val_acc, 'g', label='Validation accuracy')\n",
    "    #plt.plot(ep, val_loss, 'b', label='Validation loss')\n",
    "    plt.title('Validation acuuracy ')\n",
    "    plt.xlabel('Epochs')\n",
    "    plt.ylabel('Accuracy')\n",
    "    plt.legend()\n",
    "    plt.show()    "
   ]
  },
  {
   "cell_type": "code",
   "execution_count": 22,
   "metadata": {
    "execution": {
     "iopub.execute_input": "2021-05-04T10:08:59.947637Z",
     "iopub.status.busy": "2021-05-04T10:08:59.946814Z",
     "iopub.status.idle": "2021-05-04T10:09:51.048003Z",
     "shell.execute_reply": "2021-05-04T10:09:51.046415Z"
    },
    "papermill": {
     "duration": 51.160358,
     "end_time": "2021-05-04T10:09:51.048135",
     "exception": false,
     "start_time": "2021-05-04T10:08:59.887777",
     "status": "completed"
    },
    "tags": []
   },
   "outputs": [
    {
     "name": "stderr",
     "output_type": "stream",
     "text": [
      "Epoch:   0%|          | 0/4 [00:00<?, ?it/s]"
     ]
    },
    {
     "name": "stdout",
     "output_type": "stream",
     "text": [
      "Starting training loop.\n",
      "Train loss: 0.9266693695731785\n",
      "Train accuracy: 0.7790637834006218\n",
      "Starting validation loop.\n"
     ]
    },
    {
     "name": "stderr",
     "output_type": "stream",
     "text": [
      "/opt/conda/lib/python3.7/site-packages/seqeval/metrics/sequence_labeling.py:171: UserWarning: Name seems not to be NE tag.\n",
      "  warnings.warn('{} seems not to be NE tag.'.format(chunk))\n",
      "/opt/conda/lib/python3.7/site-packages/seqeval/metrics/sequence_labeling.py:171: UserWarning: Designation seems not to be NE tag.\n",
      "  warnings.warn('{} seems not to be NE tag.'.format(chunk))\n",
      "/opt/conda/lib/python3.7/site-packages/seqeval/metrics/sequence_labeling.py:171: UserWarning: Location seems not to be NE tag.\n",
      "  warnings.warn('{} seems not to be NE tag.'.format(chunk))\n",
      "/opt/conda/lib/python3.7/site-packages/seqeval/metrics/sequence_labeling.py:171: UserWarning: Email Address seems not to be NE tag.\n",
      "  warnings.warn('{} seems not to be NE tag.'.format(chunk))\n",
      "/opt/conda/lib/python3.7/site-packages/seqeval/metrics/sequence_labeling.py:171: UserWarning: Companies worked at seems not to be NE tag.\n",
      "  warnings.warn('{} seems not to be NE tag.'.format(chunk))\n",
      "/opt/conda/lib/python3.7/site-packages/seqeval/metrics/sequence_labeling.py:171: UserWarning: Graduation Year seems not to be NE tag.\n",
      "  warnings.warn('{} seems not to be NE tag.'.format(chunk))\n",
      "/opt/conda/lib/python3.7/site-packages/seqeval/metrics/sequence_labeling.py:171: UserWarning: Degree seems not to be NE tag.\n",
      "  warnings.warn('{} seems not to be NE tag.'.format(chunk))\n",
      "/opt/conda/lib/python3.7/site-packages/seqeval/metrics/sequence_labeling.py:171: UserWarning: College Name seems not to be NE tag.\n",
      "  warnings.warn('{} seems not to be NE tag.'.format(chunk))\n",
      "/opt/conda/lib/python3.7/site-packages/seqeval/metrics/sequence_labeling.py:171: UserWarning: Skills seems not to be NE tag.\n",
      "  warnings.warn('{} seems not to be NE tag.'.format(chunk))\n",
      "/opt/conda/lib/python3.7/site-packages/seqeval/metrics/sequence_labeling.py:171: UserWarning: Years of Experience seems not to be NE tag.\n",
      "  warnings.warn('{} seems not to be NE tag.'.format(chunk))\n",
      "/opt/conda/lib/python3.7/site-packages/seqeval/metrics/v1.py:57: UndefinedMetricWarning: Precision and F-score are ill-defined and being set to 0.0 in labels with no predicted samples. Use `zero_division` parameter to control this behavior.\n",
      "  _warn_prf(average, modifier, msg_start, len(result))\n",
      "Epoch:  25%|██▌       | 1/4 [00:13<00:39, 13.33s/it]"
     ]
    },
    {
     "name": "stdout",
     "output_type": "stream",
     "text": [
      "Validation loss: 0.6158261179924012\n",
      "Validation Accuracy: 0.8309217125108124\n",
      "Classification Report:\n",
      "                     precision    recall  f1-score   support\n",
      "\n",
      "               ame       0.00      0.00      0.00        41\n",
      "ears of Experience       0.00      0.00      0.00         5\n",
      "             egree       0.00      0.00      0.00        35\n",
      "        esignation       0.00      0.00      0.00        89\n",
      "             kills       1.00      0.01      0.01       869\n",
      "      mail Address       0.56      0.75      0.64      1130\n",
      "           ocation       0.00      0.00      0.00        54\n",
      "       ollege Name       0.00      0.00      0.00        33\n",
      "ompanies worked at       0.00      0.00      0.00        59\n",
      "    raduation Year       0.00      0.00      0.00        16\n",
      "\n",
      "         micro avg       0.56      0.36      0.44      2331\n",
      "         macro avg       0.16      0.08      0.07      2331\n",
      "      weighted avg       0.65      0.36      0.32      2331\n",
      "\n",
      "Confusion Matrix:\n",
      " \tCollege Name Companies worked at Degree Designation Email Address Graduation Year Location Name O Skills Years of Experience\n",
      "College Name\t\t\t[  0   0   0   0  17   0   0   0 191   0   0]\n",
      "Companies worked at\t\t\t[  0   0   0   0  87   0   0   0 149   0   0]\n",
      "Degree\t\t\t[  0   0   0   0  10   0   0   0 142   0   0]\n",
      "Designation\t\t\t[  0   0   0   0  73   0   0   0 250   0   0]\n",
      "Email Address\t\t\t[  0   0   0   0 845   0   0   0 285   0   0]\n",
      "Graduation Year\t\t\t[ 0  0  0  0  0  0  0  0 19  0  0]\n",
      "Location\t\t\t[ 0  0  0  0 80  0  0  0 95  0  0]\n",
      "Name\t\t\t[ 17   0   0   0 167   0   0   1   5   0   0]\n",
      "O\t\t\t[    0     0     0     0   221     0     0     0 12487     0     0]\n",
      "Skills\t\t\t[  0   0   0   0   0   0   0   0 864   5   0]\n",
      "Years of Experience\t\t\t[ 0  0  0  0  3  0  0  0 12  0  0]\n",
      "Starting training loop.\n",
      "Train loss: 0.4692741904569709\n",
      "Train accuracy: 0.8611838623502439\n",
      "Starting validation loop.\n"
     ]
    },
    {
     "name": "stderr",
     "output_type": "stream",
     "text": [
      "Epoch:  50%|█████     | 2/4 [00:25<00:26, 13.07s/it]"
     ]
    },
    {
     "name": "stdout",
     "output_type": "stream",
     "text": [
      "Validation loss: 0.5686264514923096\n",
      "Validation Accuracy: 0.7747564766903574\n",
      "Classification Report:\n",
      "                     precision    recall  f1-score   support\n",
      "\n",
      "               ame       0.08      0.20      0.11        41\n",
      "ears of Experience       0.00      0.00      0.00         5\n",
      "             egree       0.00      0.00      0.00        35\n",
      "        esignation       0.09      0.03      0.05        92\n",
      "             kills       0.33      0.72      0.45       869\n",
      "      mail Address       0.53      0.95      0.68      1130\n",
      "           ocation       0.15      0.30      0.20        53\n",
      "       ollege Name       0.01      0.03      0.01        33\n",
      "ompanies worked at       0.00      0.00      0.00        60\n",
      "    raduation Year       0.00      0.00      0.00        16\n",
      "\n",
      "         micro avg       0.40      0.74      0.52      2334\n",
      "         macro avg       0.12      0.22      0.15      2334\n",
      "      weighted avg       0.39      0.74      0.51      2334\n",
      "\n",
      "Confusion Matrix:\n",
      " \tCollege Name Companies worked at Degree Designation Email Address Graduation Year Location Name O Skills Years of Experience\n",
      "College Name\t\t\t[117   0   0   0   0   0  18  15  57   1   0]\n",
      "Companies worked at\t\t\t[ 27  10   0   2   3   0  37  53 104   9   0]\n",
      "Degree\t\t\t[122   0   4   1   0   0   1   0  19   5   0]\n",
      "Designation\t\t\t[ 38   6   0  30   5   0   9  70 138  18   0]\n",
      "Email Address\t\t\t[   0    0    0    0 1069    0    0    0   61    0    0]\n",
      "Graduation Year\t\t\t[ 0  0  0  0  0  0  0  0 19  0  0]\n",
      "Location\t\t\t[ 0  0  0  0  1  0 95 19 60  0  0]\n",
      "Name\t\t\t[  0   0   0   0   0   0   1 186   3   0   0]\n",
      "O\t\t\t[  140     9     3    13   936     0    60    33 10272  1242     0]\n",
      "Skills\t\t\t[  4   0   0   0   0   0   0   0 240 625   0]\n",
      "Years of Experience\t\t\t[ 0  0  0  0  3  0  0  2 10  0  0]\n",
      "Starting training loop.\n",
      "Train loss: 0.3407022169102793\n",
      "Train accuracy: 0.900058009847985\n",
      "Starting validation loop.\n"
     ]
    },
    {
     "name": "stderr",
     "output_type": "stream",
     "text": [
      "Epoch:  75%|███████▌  | 3/4 [00:38<00:12, 12.93s/it]"
     ]
    },
    {
     "name": "stdout",
     "output_type": "stream",
     "text": [
      "Validation loss: 0.34445019364356994\n",
      "Validation Accuracy: 0.8875406728092011\n",
      "Classification Report:\n",
      "                     precision    recall  f1-score   support\n",
      "\n",
      "               ame       0.67      0.76      0.71        41\n",
      "ears of Experience       0.00      0.00      0.00         5\n",
      "             egree       0.07      0.09      0.08        35\n",
      "        esignation       0.16      0.16      0.16        89\n",
      "             kills       0.65      0.60      0.63       869\n",
      "      mail Address       0.88      0.75      0.81      1130\n",
      "           ocation       0.47      0.46      0.47        54\n",
      "       ollege Name       0.06      0.12      0.08        33\n",
      "ompanies worked at       0.08      0.08      0.08        59\n",
      "    raduation Year       0.00      0.00      0.00        16\n",
      "\n",
      "         micro avg       0.68      0.62      0.65      2331\n",
      "         macro avg       0.30      0.30      0.30      2331\n",
      "      weighted avg       0.70      0.62      0.66      2331\n",
      "\n",
      "Confusion Matrix:\n",
      " \tCollege Name Companies worked at Degree Designation Email Address Graduation Year Location Name O Skills Years of Experience\n",
      "College Name\t\t\t[141   1   7   0   0   0   1   2  56   0   0]\n",
      "Companies worked at\t\t\t[  5  63   0  14   0   0   1   5 148   0   0]\n",
      "Degree\t\t\t[26  0 84  6  0  0  0  0 36  0  0]\n",
      "Designation\t\t\t[  0  11   0 150   0   0   0   8 154   0   0]\n",
      "Email Address\t\t\t[  0   0   0   0 847   0   0   0 283   0   0]\n",
      "Graduation Year\t\t\t[ 0  0  0  0  0  0  0  0 19  0  0]\n",
      "Location\t\t\t[ 1  0  0  0  0  0 99  4 71  0  0]\n",
      "Name\t\t\t[  0   0   0   1   0   0   1 183   5   0   0]\n",
      "O\t\t\t[   56    30     8    40   119     0    21     6 12150   278     0]\n",
      "Skills\t\t\t[  0   0   2   0   0   0   0   0 342 525   0]\n",
      "Years of Experience\t\t\t[ 0  0  0  0  0  0  0  0 15  0  0]\n",
      "Starting training loop.\n",
      "Train loss: 0.25446458743966144\n",
      "Train accuracy: 0.9215131558708436\n",
      "Starting validation loop.\n"
     ]
    },
    {
     "name": "stderr",
     "output_type": "stream",
     "text": [
      "Epoch: 100%|██████████| 4/4 [00:50<00:00, 12.71s/it]"
     ]
    },
    {
     "name": "stdout",
     "output_type": "stream",
     "text": [
      "Validation loss: 0.3432180047035217\n",
      "Validation Accuracy: 0.8736896201028488\n",
      "Classification Report:\n",
      "                     precision    recall  f1-score   support\n",
      "\n",
      "               ame       0.88      0.90      0.89        41\n",
      "ears of Experience       0.00      0.00      0.00         5\n",
      "             egree       0.11      0.11      0.11        35\n",
      "        esignation       0.16      0.22      0.19        92\n",
      "             kills       0.53      0.72      0.61       869\n",
      "      mail Address       0.88      0.75      0.81      1130\n",
      "           ocation       0.56      0.62      0.59        53\n",
      "       ollege Name       0.07      0.18      0.10        33\n",
      "ompanies worked at       0.16      0.38      0.22        60\n",
      "    raduation Year       0.00      0.00      0.00        16\n",
      "\n",
      "         micro avg       0.61      0.68      0.64      2334\n",
      "         macro avg       0.34      0.39      0.35      2334\n",
      "      weighted avg       0.66      0.68      0.67      2334\n",
      "\n",
      "Confusion Matrix:\n",
      " \tCollege Name Companies worked at Degree Designation Email Address Graduation Year Location Name O Skills Years of Experience\n",
      "College Name\t\t\t[189   2   1   0   0   0   1   0  15   0   0]\n",
      "Companies worked at\t\t\t[ 10 160   0  15   0   0   2   3  55   0   0]\n",
      "Degree\t\t\t[79  0 63  2  0  0  0  0  8  0  0]\n",
      "Designation\t\t\t[  0  36   0 207   0   0   0   5  65   1   0]\n",
      "Email Address\t\t\t[  0   0   0   0 847   0   0   0 283   0   0]\n",
      "Graduation Year\t\t\t[ 1  0  0  0  0  0  0  0 18  0  0]\n",
      "Location\t\t\t[  0   0   0   0   0   0 117   0  58   0   0]\n",
      "Name\t\t\t[  0   0   0   1   0   0   0 185   4   0   0]\n",
      "O\t\t\t[  135   133    16    95   120     0    37     0 11628   544     0]\n",
      "Skills\t\t\t[  1   1   4   1   0   0   0   0 235 627   0]\n",
      "Years of Experience\t\t\t[0 0 0 7 0 0 0 0 8 0 0]\n"
     ]
    },
    {
     "name": "stderr",
     "output_type": "stream",
     "text": [
      "\n"
     ]
    },
    {
     "data": {
      "image/png": "[encoded data removed]",
      "text/plain": [
       "<Figure size 432x288 with 1 Axes>"
      ]
     },
     "metadata": {
      "needs_background": "light"
     },
     "output_type": "display_data"
    }
   ],
   "source": [
    "train_and_save_model(\n",
    "    model, \n",
    "    TOKENIZER, \n",
    "    optimizer, \n",
    "    EPOCHS, \n",
    "    idx2tag, \n",
    "    tag2idx, \n",
    "    MAX_GRAD_NORM, \n",
    "    DEVICE, \n",
    "    train_dl, \n",
    "    val_dl\n",
    ")"
   ]
  },
  {
   "cell_type": "code",
   "execution_count": 23,
   "metadata": {
    "execution": {
     "iopub.execute_input": "2021-05-04T10:09:51.137385Z",
     "iopub.status.busy": "2021-05-04T10:09:51.135578Z",
     "iopub.status.idle": "2021-05-04T10:09:52.625640Z",
     "shell.execute_reply": "2021-05-04T10:09:52.624902Z"
    },
    "papermill": {
     "duration": 1.536508,
     "end_time": "2021-05-04T10:09:52.625758",
     "exception": false,
     "start_time": "2021-05-04T10:09:51.089250",
     "status": "completed"
    },
    "tags": []
   },
   "outputs": [],
   "source": [
    "torch.save(\n",
    "    {\n",
    "        \"epoch\": EPOCHS,\n",
    "        \"model_state_dict\": model.state_dict(),\n",
    "        \"optimizer_state_dict\": optimizer.state_dict(),\n",
    "    },\n",
    "    'model_e10.tar',\n",
    ")"
   ]
  },
  {
   "cell_type": "code",
   "execution_count": 24,
   "metadata": {
    "execution": {
     "iopub.execute_input": "2021-05-04T10:09:52.714830Z",
     "iopub.status.busy": "2021-05-04T10:09:52.713645Z",
     "iopub.status.idle": "2021-05-04T10:09:57.356690Z",
     "shell.execute_reply": "2021-05-04T10:09:57.357769Z"
    },
    "papermill": {
     "duration": 4.69134,
     "end_time": "2021-05-04T10:09:57.357919",
     "exception": false,
     "start_time": "2021-05-04T10:09:52.666579",
     "status": "completed"
    },
    "tags": []
   },
   "outputs": [],
   "source": [
    "MAX_LEN = 500\n",
    "EPOCHS = 6\n",
    "DEVICE = torch.device(\"cpu\")\n",
    "MODEL_PATH = '../input/bert-base-uncased'\n",
    "STATE_DICT = torch.load('../working/model_e10.tar', map_location=DEVICE)\n",
    "TOKENIZER = BertTokenizerFast('../input/bert-base-uncased/vocab.txt', lowercase=True)\n",
    "MODEL = BertForTokenClassification.from_pretrained(MODEL_PATH, state_dict=STATE_DICT['model_state_dict'], num_labels=12)"
   ]
  },
  {
   "cell_type": "code",
   "execution_count": 25,
   "metadata": {
    "execution": {
     "iopub.execute_input": "2021-05-04T10:09:57.485925Z",
     "iopub.status.busy": "2021-05-04T10:09:57.484851Z",
     "iopub.status.idle": "2021-05-04T10:09:57.488414Z",
     "shell.execute_reply": "2021-05-04T10:09:57.487771Z"
    },
    "papermill": {
     "duration": 0.08646,
     "end_time": "2021-05-04T10:09:57.488518",
     "exception": false,
     "start_time": "2021-05-04T10:09:57.402058",
     "status": "completed"
    },
    "tags": []
   },
   "outputs": [],
   "source": [
    "def process_resume2(text, tokenizer, max_len):\n",
    "    tok = tokenizer.encode_plus(text, max_length=max_len, return_offsets_mapping=True)\n",
    "    \n",
    "    curr_sent = dict()\n",
    "    \n",
    "    padding_length = max_len - len(tok['input_ids'])\n",
    "        \n",
    "    curr_sent['input_ids'] = tok['input_ids'] + ([0] * padding_length)\n",
    "    curr_sent['token_type_ids'] = tok['token_type_ids'] + ([0] * padding_length)\n",
    "    curr_sent['attention_mask'] = tok['attention_mask'] + ([0] * padding_length)\n",
    "    \n",
    "    final_data = {\n",
    "        'input_ids': torch.tensor(curr_sent['input_ids'], dtype=torch.long),\n",
    "        'token_type_ids': torch.tensor(curr_sent['token_type_ids'], dtype=torch.long),\n",
    "        'attention_mask': torch.tensor(curr_sent['attention_mask'], dtype=torch.long),\n",
    "        'offset_mapping': tok['offset_mapping']\n",
    "    }\n",
    "    \n",
    "    return final_data"
   ]
  },
  {
   "cell_type": "code",
   "execution_count": 26,
   "metadata": {
    "execution": {
     "iopub.execute_input": "2021-05-04T10:09:57.573532Z",
     "iopub.status.busy": "2021-05-04T10:09:57.572521Z",
     "iopub.status.idle": "2021-05-04T10:09:57.576145Z",
     "shell.execute_reply": "2021-05-04T10:09:57.575628Z"
    },
    "papermill": {
     "duration": 0.048651,
     "end_time": "2021-05-04T10:09:57.576283",
     "exception": false,
     "start_time": "2021-05-04T10:09:57.527632",
     "status": "completed"
    },
    "tags": []
   },
   "outputs": [],
   "source": [
    "tags_vals = [\"UNKNOWN\", \"O\", \"Name\", \"Degree\",\"Skills\",\"College Name\",\"Email Address\",\"Designation\",\"Companies worked at\",\"Graduation Year\",\"Years of Experience\",\"Location\"]\n",
    "tag2idx = {t: i for i, t in enumerate(tags_vals)}\n",
    "idx2tag = {i:t for i, t in enumerate(tags_vals)}"
   ]
  },
  {
   "cell_type": "code",
   "execution_count": 27,
   "metadata": {
    "execution": {
     "iopub.execute_input": "2021-05-04T10:09:57.660698Z",
     "iopub.status.busy": "2021-05-04T10:09:57.659516Z",
     "iopub.status.idle": "2021-05-04T10:09:57.667865Z",
     "shell.execute_reply": "2021-05-04T10:09:57.667092Z"
    },
    "papermill": {
     "duration": 0.053583,
     "end_time": "2021-05-04T10:09:57.667974",
     "exception": false,
     "start_time": "2021-05-04T10:09:57.614391",
     "status": "completed"
    },
    "tags": []
   },
   "outputs": [],
   "source": [
    "model = MODEL\n",
    "model.to(DEVICE);"
   ]
  },
  {
   "cell_type": "code",
   "execution_count": 28,
   "metadata": {
    "execution": {
     "iopub.execute_input": "2021-05-04T10:09:57.766384Z",
     "iopub.status.busy": "2021-05-04T10:09:57.765322Z",
     "iopub.status.idle": "2021-05-04T10:09:57.769079Z",
     "shell.execute_reply": "2021-05-04T10:09:57.768430Z"
    },
    "papermill": {
     "duration": 0.060363,
     "end_time": "2021-05-04T10:09:57.769189",
     "exception": false,
     "start_time": "2021-05-04T10:09:57.708826",
     "status": "completed"
    },
    "tags": []
   },
   "outputs": [],
   "source": [
    "def predict(model, tokenizer, idx2tag, tag2idx, device, test_resume):\n",
    "    model.eval()\n",
    "    data = process_resume2(test_resume, tokenizer, MAX_LEN)\n",
    "    input_ids, input_mask = data['input_ids'].unsqueeze(0), data['attention_mask'].unsqueeze(0)\n",
    "    labels = torch.tensor([1] * input_ids.size(0), dtype=torch.long).unsqueeze(0)\n",
    "    with torch.no_grad():\n",
    "        outputs = model(\n",
    "            input_ids,\n",
    "            token_type_ids=None,\n",
    "            attention_mask=input_mask,\n",
    "            labels=labels,\n",
    "        )\n",
    "        tmp_eval_loss, logits = outputs[:2]\n",
    "    \n",
    "    logits = logits.cpu().detach().numpy()\n",
    "    label_ids = np.argmax(logits, axis=2)\n",
    "    \n",
    "    entities = []\n",
    "    for label_id, offset in zip(label_ids[0], data['offset_mapping']):\n",
    "        curr_id = idx2tag[label_id]\n",
    "        curr_start = offset[0]\n",
    "        curr_end = offset[1]\n",
    "        if curr_id != 'O':\n",
    "            if len(entities) > 0 and entities[-1]['entity'] == curr_id and curr_start - entities[-1]['end'] in [0, 1]:\n",
    "                entities[-1]['end'] = curr_end\n",
    "            else:\n",
    "                entities.append({'entity': curr_id, 'start': curr_start, 'end':curr_end})\n",
    "    for ent in entities:\n",
    "        ent['text'] = test_resume[ent['start']:ent['end']]\n",
    "    return entities"
   ]
  },
  {
   "cell_type": "code",
   "execution_count": 29,
   "metadata": {
    "execution": {
     "iopub.execute_input": "2021-05-04T10:09:57.855717Z",
     "iopub.status.busy": "2021-05-04T10:09:57.854535Z",
     "iopub.status.idle": "2021-05-04T10:10:09.284936Z",
     "shell.execute_reply": "2021-05-04T10:10:09.284328Z"
    },
    "papermill": {
     "duration": 11.475364,
     "end_time": "2021-05-04T10:10:09.285076",
     "exception": false,
     "start_time": "2021-05-04T10:09:57.809712",
     "status": "completed"
    },
    "tags": []
   },
   "outputs": [
    {
     "name": "stdout",
     "output_type": "stream",
     "text": [
      "Collecting pdfminer.six\r\n",
      "  Downloading pdfminer.six-20201018-py3-none-any.whl (5.6 MB)\r\n",
      "\u001b[K     |████████████████████████████████| 5.6 MB 5.4 MB/s \r\n",
      "\u001b[?25hRequirement already satisfied: chardet; python_version > \"3.0\" in /opt/conda/lib/python3.7/site-packages (from pdfminer.six) (3.0.4)\r\n",
      "Requirement already satisfied: sortedcontainers in /opt/conda/lib/python3.7/site-packages (from pdfminer.six) (2.1.0)\r\n",
      "Requirement already satisfied: cryptography in /opt/conda/lib/python3.7/site-packages (from pdfminer.six) (2.8)\r\n",
      "Requirement already satisfied: six>=1.4.1 in /opt/conda/lib/python3.7/site-packages (from cryptography->pdfminer.six) (1.14.0)\r\n",
      "Requirement already satisfied: cffi!=1.11.3,>=1.8 in /opt/conda/lib/python3.7/site-packages (from cryptography->pdfminer.six) (1.14.0)\r\n",
      "Requirement already satisfied: pycparser in /opt/conda/lib/python3.7/site-packages (from cffi!=1.11.3,>=1.8->cryptography->pdfminer.six) (2.20)\r\n",
      "Installing collected packages: pdfminer.six\r\n",
      "Successfully installed pdfminer.six-20201018\r\n",
      "\u001b[33mWARNING: You are using pip version 20.1.1; however, version 21.1.1 is available.\r\n",
      "You should consider upgrading via the '/opt/conda/bin/python3.7 -m pip install --upgrade pip' command.\u001b[0m\r\n"
     ]
    }
   ],
   "source": [
    "!pip install pdfminer.six"
   ]
  },
  {
   "cell_type": "code",
   "execution_count": 30,
   "metadata": {
    "execution": {
     "iopub.execute_input": "2021-05-04T10:10:09.405069Z",
     "iopub.status.busy": "2021-05-04T10:10:09.404059Z",
     "iopub.status.idle": "2021-05-04T10:10:09.432511Z",
     "shell.execute_reply": "2021-05-04T10:10:09.431865Z"
    },
    "papermill": {
     "duration": 0.090629,
     "end_time": "2021-05-04T10:10:09.432628",
     "exception": false,
     "start_time": "2021-05-04T10:10:09.341999",
     "status": "completed"
    },
    "tags": []
   },
   "outputs": [],
   "source": [
    "from pdfminer.high_level import extract_text"
   ]
  },
  {
   "cell_type": "code",
   "execution_count": 31,
   "metadata": {
    "execution": {
     "iopub.execute_input": "2021-05-04T10:10:09.549034Z",
     "iopub.status.busy": "2021-05-04T10:10:09.548051Z",
     "iopub.status.idle": "2021-05-04T10:10:09.772932Z",
     "shell.execute_reply": "2021-05-04T10:10:09.772110Z"
    },
    "papermill": {
     "duration": 0.284775,
     "end_time": "2021-05-04T10:10:09.773073",
     "exception": false,
     "start_time": "2021-05-04T10:10:09.488298",
     "status": "completed"
    },
    "tags": []
   },
   "outputs": [
    {
     "data": {
      "text/plain": [
       "'UNNATI RUSIA  Jabalpur Engineering College , Jabalpur(M.P) [ unnatirusia154@gmail.com  (cid:211) +91-9074185521  EXPERIENCE, MOOCS AND TRAINING  EDUCATION  (cid:135) github.com/UnnatiRusia  ﬂ linkedin.com/in/unnati-rusia/  EDRAHI Edtech Pvt. Ltd. Research Assistant Intern (cid:17) May 2020-July 2020  • Market research , Data Analysis, Brand endorsement and Campaign De-  sign,Push Marketing, Designing Marketing strategy.  • Competitor Research, Product Design test , User Persona Research, MVP  development and designing.  • Committed to ﬁnd product market ﬁt. Algorithm Toolboox by University of California San Diego MOOCs (cid:17) April 2020-May 2020  • Covers basic algorithmic techniques and ideas for computational problems  arising frequently in practical applications.  • practice solving computational problems, designing new algorithms, and im-  plementing solutions eﬃciently.  Data Analysis in Python by IBM MOOCs (cid:17) April 2020  • learn how to prepare data for analysis, perform simple statistical analysis,  create meaningful data visualizations, predict future trends from data using Python.  • use Pandas, Numpy and Scipy libraries to work with a sample dataset. National Programme On Technology Enhanced Learning(NPTEL) - Soft skills Training (cid:17) July 2019- November 2019  • Develop the Interpersonal and Intrapersonal skills.  • Learn Leadership skills, Teamwork, Problem-solving Ethics, Work Ethics. Matrix Technologies Training (cid:17) June 2019- July 2019  • Learn java from basic, learn web technologies using java, and had a basic  training on android app development.  JEC, Jabalpur(M.P)  B.Tech in Information Technology (cid:17) July 2018 - May 2022  CGPA: 8.12 / 10 Anoop Public School, Datia(M.P)  Senior Year (Class XII) (cid:17) May 2018  Percentage: 84.4% Rani LaxmiBai Public School, Da- tia(M.P)  Class X (cid:17) May 2016  Percentage: 88%  SKILLS  Programming/Scripting •Java(basic) •Python •Node.js •JavaScript •C/C++ •Html •CSS •Bootstrap •Data Structures and Algorithms  Database  • MySql •MongoDb  EXTRACURRICULAR ACTIVITY  • Actively participate in AVAHAN 2019  • One of the Top 50 teams in smart jabalpur  hackathon 2019  • LeetCode (cid:63)(cid:63) • codechef (cid:63) (cid:63) (cid:63)  PROJECTS  Todo App  task according to work.  MongoDB for database.  • Userfriendly Application, user can add, edit, give preferences and delete their  • Using HTML, CSS, Bootstrap for frontend, Express-NodeJS as backend and  Pet diseases and Cure Website (Team Project)  • Proper records of New diseases, their symptoms with photographs, their  cure, vaccination, Medicines, First-Aid for pets, pet owner can consult doc- tors at the same time using our online chat server.  • Using HTML, CSS, Bootstrap for frontend, AJAX,PHPmyAdmin as a backend,  MySQL for database.  • I worked as a Front-end Developer  \\x0c'"
      ]
     },
     "execution_count": 31,
     "metadata": {},
     "output_type": "execute_result"
    }
   ],
   "source": [
    "text = extract_text('../input/unnati-resume-2/unnati resume.pdf')\n",
    "resume_text1 = text.replace(\"\\n\", \" \")\n",
    "resume_text1"
   ]
  },
  {
   "cell_type": "code",
   "execution_count": 32,
   "metadata": {
    "execution": {
     "iopub.execute_input": "2021-05-04T10:10:09.889408Z",
     "iopub.status.busy": "2021-05-04T10:10:09.888644Z",
     "iopub.status.idle": "2021-05-04T10:10:10.728137Z",
     "shell.execute_reply": "2021-05-04T10:10:10.726365Z"
    },
    "papermill": {
     "duration": 0.899449,
     "end_time": "2021-05-04T10:10:10.728295",
     "exception": false,
     "start_time": "2021-05-04T10:10:09.828846",
     "status": "completed"
    },
    "tags": []
   },
   "outputs": [
    {
     "data": {
      "text/plain": [
       "'SHASHANK BAJPAI                                                                                   BCA                                                +918564996642   Email- shashank.bajpai@student.amity.edu  Skype ID – live:.cid.e0cec82567bb4ab3  https://www.linkedin.com/in/shashank-bajpai-810aa7184/      A21704818005                                                            PROFILE HIGHLIGHTS        •  Excellent in client relationship and client retention strategy  •  Practical experience of finacel software used in bank  •  Practical exposure in research   •  Organization:   MOHANI TEA LEAVES PVT.LTD  •  Title: Record management       INTERNSHIP EXPERIENCE                      EDUCATIONAL QUALIFICATION      Qualification   University/ School   Graduating Year   Percentage/CGPA         BCA 3rd  year   Amity University, Rajasthan   12th   10th             SARASWATI SHIKSHA SADAN ,INTER  COLLEGE,KANPUR  SARASWATI SHIKSHA SADAN ,INTER  COLLEGE,KANPUR      2021   2018   2016                    74%   62.6%   72%                                                                                                                                                                         TECHNICAL SKILLS   •  C, C++ , DBMS, HTML,PYTHON     ACHIEVEMENTS   •  Achieved appreciation letter of event innovation day at amity  university  •  Got 2nd position in cricket competition at amity university           CO-CURRICULAR ACTIVITIES/ PARTICIPATION        •  Participated in certificate and trophy competition of amity techno-cultural fest  •  Participated in odyssey function at university        PERSONAL DETAILS    Parent Name: S/O Mr. Sudhir bajpai  Date of Birth: 10/12/2002      1   \\x0cPermanent Address: 33/192 ,chowk,Kanpur   pin: 208001   Languages known: Foreign language (with proficiency level) German        REFERENCES     On Demand   2   \\x0c'"
      ]
     },
     "execution_count": 32,
     "metadata": {},
     "output_type": "execute_result"
    }
   ],
   "source": [
    "text = extract_text('../input/unnati-resume-2/unnati resume.pdf')\n",
    "resume_text1 = text.replace(\"\\n\", \" \")\n",
    "resume_text1\n",
    "text = extract_text('../input/shashank-resume/shashank Bajpai-Bca 2021 AUR - Shashank Bajpai.pdf')\n",
    "resume_text2 = text.replace(\"\\n\", \" \")\n",
    "resume_text2"
   ]
  },
  {
   "cell_type": "code",
   "execution_count": 33,
   "metadata": {
    "execution": {
     "iopub.execute_input": "2021-05-04T10:10:10.848995Z",
     "iopub.status.busy": "2021-05-04T10:10:10.848359Z",
     "iopub.status.idle": "2021-05-04T10:10:14.113575Z",
     "shell.execute_reply": "2021-05-04T10:10:14.112967Z"
    },
    "papermill": {
     "duration": 3.330623,
     "end_time": "2021-05-04T10:10:14.113727",
     "exception": false,
     "start_time": "2021-05-04T10:10:10.783104",
     "status": "completed"
    },
    "tags": []
   },
   "outputs": [],
   "source": [
    "entities1 = predict(model, TOKENIZER, idx2tag, tag2idx, DEVICE, resume_text1)\n",
    "entities2 = predict(model, TOKENIZER, idx2tag, tag2idx, DEVICE, resume_text2)"
   ]
  },
  {
   "cell_type": "code",
   "execution_count": 34,
   "metadata": {
    "execution": {
     "iopub.execute_input": "2021-05-04T10:10:14.239412Z",
     "iopub.status.busy": "2021-05-04T10:10:14.235783Z",
     "iopub.status.idle": "2021-05-04T10:10:14.250388Z",
     "shell.execute_reply": "2021-05-04T10:10:14.251402Z"
    },
    "papermill": {
     "duration": 0.08075,
     "end_time": "2021-05-04T10:10:14.251646",
     "exception": false,
     "start_time": "2021-05-04T10:10:14.170896",
     "status": "completed"
    },
    "tags": []
   },
   "outputs": [
    {
     "name": "stdout",
     "output_type": "stream",
     "text": [
      "Name - UNNATI RUSIA\n",
      "Name - Ja\n",
      "College Name - balpur Engineering College ,\n",
      "Location - Ja\n",
      "Location - pur\n",
      "College Name - M\n",
      "Degree - .\n",
      "College Name - P\n",
      "Email Address - unnat\n",
      "Name - irus\n",
      "Email Address - ia154@gma\n",
      "Name - il\n",
      "Email Address - .com\n",
      "Email Address - +91-907418552\n",
      "Companies worked at - IBM\n",
      "Skills - Leadership skills, Teamwork, Problem-solving Ethics, Work Ethics\n",
      "Skills - Matrix\n",
      "Skills - java\n",
      "Degree - B.Tech in\n",
      "Degree - Technology\n",
      "College Name - Anoop Public School\n",
      "Skills - 84.\n",
      "College Name - Rani LaxmiBai Public School\n",
      "Skills - SKILLS\n",
      "Skills - Programming/Scripting •Java(basic) •Python •Node.js •JavaScript •C/C++ •Html •CSS •Bootstrap •Data Structures and\n"
     ]
    }
   ],
   "source": [
    "for i in entities1:\n",
    "    print(i['entity'], '-', i['text']) # abhi 4 epoch"
   ]
  },
  {
   "cell_type": "code",
   "execution_count": 35,
   "metadata": {
    "execution": {
     "iopub.execute_input": "2021-05-04T10:10:14.379846Z",
     "iopub.status.busy": "2021-05-04T10:10:14.378590Z",
     "iopub.status.idle": "2021-05-04T10:10:14.386726Z",
     "shell.execute_reply": "2021-05-04T10:10:14.385576Z"
    },
    "papermill": {
     "duration": 0.073965,
     "end_time": "2021-05-04T10:10:14.386898",
     "exception": false,
     "start_time": "2021-05-04T10:10:14.312933",
     "status": "completed"
    },
    "tags": []
   },
   "outputs": [
    {
     "name": "stdout",
     "output_type": "stream",
     "text": [
      "Name - SHASHANK BAJPAI\n",
      "Name - BC\n",
      "Designation - A\n",
      "Email Address - 918564996642\n",
      "Name - shashank.bajpa\n",
      "Name - ami\n",
      "College Name - ty\n",
      "Designation - .\n",
      "Email Address - e0cec82567\n",
      "Email Address - 4\n",
      "College Name - Amity University\n",
      "College Name - 10th\n",
      "College Name - SARASWATI SHIKSHA SADAN ,INTER\n",
      "College Name - COLLEGE\n",
      "College Name - SARASWATI SHIKSHA SADAN ,INTER\n",
      "College Name - COLLEGE\n",
      "Skills - 62.6%\n",
      "Skills - 72%\n",
      "Skills - TECHNICAL SKILLS\n",
      "Skills - •\n",
      "Skills - C, C++ , DBMS, HTML,PYTHON\n",
      "Skills - ACHIEVEMENTS\n",
      "Skills - •\n",
      "Skills - Languages known: Foreign language (with proficiency level) German\n",
      "Skills - REFERENCES\n",
      "Skills - On Demand\n",
      "Skills - 2\n"
     ]
    }
   ],
   "source": [
    "for i in entities2:\n",
    "    print(i['entity'], '-', i['text']) # abhi 4 epoch"
   ]
  },
  {
   "cell_type": "code",
   "execution_count": null,
   "metadata": {
    "papermill": {
     "duration": 0.055696,
     "end_time": "2021-05-04T10:10:14.506380",
     "exception": false,
     "start_time": "2021-05-04T10:10:14.450684",
     "status": "completed"
    },
    "tags": []
   },
   "outputs": [],
   "source": []
  }
 ],
 "metadata": {
  "kernelspec": {
   "display_name": "Python 3",
   "language": "python",
   "name": "python3"
  },
  "language_info": {
   "codemirror_mode": {
    "name": "ipython",
    "version": 3
   },
   "file_extension": ".py",
   "mimetype": "text/x-python",
   "name": "python",
   "nbconvert_exporter": "python",
   "pygments_lexer": "ipython3",
   "version": "3.7.6"
  },
  "papermill": {
   "duration": 123.975963,
   "end_time": "2021-05-04T10:10:15.372238",
   "environment_variables": {},
   "exception": null,
   "input_path": "__notebook__.ipynb",
   "output_path": "__notebook__.ipynb",
   "parameters": {},
   "start_time": "2021-05-04T10:08:11.396275",
   "version": "2.1.0"
  }
 },
 "nbformat": 4,
 "nbformat_minor": 4
}
